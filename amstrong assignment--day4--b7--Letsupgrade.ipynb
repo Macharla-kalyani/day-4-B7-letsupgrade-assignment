{
 "cells": [
  {
   "cell_type": "code",
   "execution_count": 46,
   "metadata": {},
   "outputs": [
    {
     "name": "stdout",
     "output_type": "stream",
     "text": [
      "enter the range  starting value a---1042000\n",
      "b----702648265\n",
      "1741725\n"
     ]
    }
   ],
   "source": [
    "import math\n",
    "a1=input(\"enter the range  starting value a---\")\n",
    "b1=input(\"b----\")\n",
    "a=int(a1)\n",
    "b=int(b1)\n",
    "i=a\n",
    "while i <= b:\n",
    "    c=i\n",
    "    k=0\n",
    "    n=0\n",
    "    while c:\n",
    "        c=int(c/10)\n",
    "        n=n+1\n",
    "    c=i\n",
    "    while c:\n",
    "        r=c\n",
    "        c=int(c/10)\n",
    "        k=k+(r-c*10)**n\n",
    "    if k==i:\n",
    "        print(i)\n",
    "        break\n",
    "    i=i+1    "
   ]
  },
  {
   "cell_type": "code",
   "execution_count": null,
   "metadata": {},
   "outputs": [],
   "source": []
  },
  {
   "cell_type": "code",
   "execution_count": null,
   "metadata": {},
   "outputs": [],
   "source": []
  },
  {
   "cell_type": "code",
   "execution_count": null,
   "metadata": {},
   "outputs": [],
   "source": []
  },
  {
   "cell_type": "code",
   "execution_count": null,
   "metadata": {},
   "outputs": [],
   "source": []
  }
 ],
 "metadata": {
  "kernelspec": {
   "display_name": "Python 3",
   "language": "python",
   "name": "python3"
  },
  "language_info": {
   "codemirror_mode": {
    "name": "ipython",
    "version": 3
   },
   "file_extension": ".py",
   "mimetype": "text/x-python",
   "name": "python",
   "nbconvert_exporter": "python",
   "pygments_lexer": "ipython3",
   "version": "3.7.1"
  }
 },
 "nbformat": 4,
 "nbformat_minor": 2
}
